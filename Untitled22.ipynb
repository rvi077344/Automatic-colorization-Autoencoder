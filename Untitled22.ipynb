{
  "nbformat": 4,
  "nbformat_minor": 0,
  "metadata": {
    "colab": {
      "name": "Untitled22.ipynb",
      "provenance": [],
      "collapsed_sections": [],
      "authorship_tag": "ABX9TyOiPzHENazc0/mIqZjs9HIo",
      "include_colab_link": true
    },
    "kernelspec": {
      "name": "python3",
      "display_name": "Python 3"
    },
    "accelerator": "GPU"
  },
  "cells": [
    {
      "cell_type": "markdown",
      "metadata": {
        "id": "view-in-github",
        "colab_type": "text"
      },
      "source": [
        "<a href=\"https://colab.research.google.com/github/rvi077344/Automatic-colorization-Autoencoder/blob/master/Untitled22.ipynb\" target=\"_parent\"><img src=\"https://colab.research.google.com/assets/colab-badge.svg\" alt=\"Open In Colab\"/></a>"
      ]
    },
    {
      "cell_type": "code",
      "metadata": {
        "id": "PFaUJSDnLykb",
        "colab_type": "code",
        "outputId": "df967e7a-aa5a-4cfd-b55f-caddd1266eae",
        "colab": {
          "base_uri": "https://localhost:8080/",
          "height": 356
        }
      },
      "source": [
        "!pip install tensorflow==2.0.0alpha0"
      ],
      "execution_count": 0,
      "outputs": [
        {
          "output_type": "stream",
          "text": [
            "Requirement already satisfied: tensorflow==2.0.0alpha0 in /usr/local/lib/python3.6/dist-packages (2.0.0a0)\n",
            "Requirement already satisfied: six>=1.10.0 in /usr/local/lib/python3.6/dist-packages (from tensorflow==2.0.0alpha0) (1.12.0)\n",
            "Requirement already satisfied: termcolor>=1.1.0 in /usr/local/lib/python3.6/dist-packages (from tensorflow==2.0.0alpha0) (1.1.0)\n",
            "Requirement already satisfied: numpy<2.0,>=1.14.5 in /usr/local/lib/python3.6/dist-packages (from tensorflow==2.0.0alpha0) (1.18.2)\n",
            "Requirement already satisfied: gast>=0.2.0 in /usr/local/lib/python3.6/dist-packages (from tensorflow==2.0.0alpha0) (0.3.3)\n",
            "Requirement already satisfied: keras-applications>=1.0.6 in /usr/local/lib/python3.6/dist-packages (from tensorflow==2.0.0alpha0) (1.0.8)\n",
            "Requirement already satisfied: tb-nightly<1.14.0a20190302,>=1.14.0a20190301 in /usr/local/lib/python3.6/dist-packages (from tensorflow==2.0.0alpha0) (1.14.0a20190301)\n",
            "Requirement already satisfied: tf-estimator-nightly<1.14.0.dev2019030116,>=1.14.0.dev2019030115 in /usr/local/lib/python3.6/dist-packages (from tensorflow==2.0.0alpha0) (1.14.0.dev2019030115)\n",
            "Requirement already satisfied: absl-py>=0.7.0 in /usr/local/lib/python3.6/dist-packages (from tensorflow==2.0.0alpha0) (0.9.0)\n",
            "Requirement already satisfied: google-pasta>=0.1.2 in /usr/local/lib/python3.6/dist-packages (from tensorflow==2.0.0alpha0) (0.2.0)\n",
            "Requirement already satisfied: wheel>=0.26 in /usr/local/lib/python3.6/dist-packages (from tensorflow==2.0.0alpha0) (0.34.2)\n",
            "Requirement already satisfied: astor>=0.6.0 in /usr/local/lib/python3.6/dist-packages (from tensorflow==2.0.0alpha0) (0.8.1)\n",
            "Requirement already satisfied: protobuf>=3.6.1 in /usr/local/lib/python3.6/dist-packages (from tensorflow==2.0.0alpha0) (3.10.0)\n",
            "Requirement already satisfied: keras-preprocessing>=1.0.5 in /usr/local/lib/python3.6/dist-packages (from tensorflow==2.0.0alpha0) (1.1.0)\n",
            "Requirement already satisfied: grpcio>=1.8.6 in /usr/local/lib/python3.6/dist-packages (from tensorflow==2.0.0alpha0) (1.27.2)\n",
            "Requirement already satisfied: h5py in /usr/local/lib/python3.6/dist-packages (from keras-applications>=1.0.6->tensorflow==2.0.0alpha0) (2.10.0)\n",
            "Requirement already satisfied: markdown>=2.6.8 in /usr/local/lib/python3.6/dist-packages (from tb-nightly<1.14.0a20190302,>=1.14.0a20190301->tensorflow==2.0.0alpha0) (3.2.1)\n",
            "Requirement already satisfied: werkzeug>=0.11.15 in /usr/local/lib/python3.6/dist-packages (from tb-nightly<1.14.0a20190302,>=1.14.0a20190301->tensorflow==2.0.0alpha0) (1.0.1)\n",
            "Requirement already satisfied: setuptools in /usr/local/lib/python3.6/dist-packages (from protobuf>=3.6.1->tensorflow==2.0.0alpha0) (46.1.3)\n"
          ],
          "name": "stdout"
        }
      ]
    },
    {
      "cell_type": "code",
      "metadata": {
        "id": "-85DDaSoL_a5",
        "colab_type": "code",
        "colab": {
          "base_uri": "https://localhost:8080/",
          "height": 34
        },
        "outputId": "821ac2e3-6ba7-4d50-dddc-c1c1157a9cfb"
      },
      "source": [
        "import tensorflow as tf\n",
        "print(tf.__version__)"
      ],
      "execution_count": 34,
      "outputs": [
        {
          "output_type": "stream",
          "text": [
            "2.0.0-alpha0\n"
          ],
          "name": "stdout"
        }
      ]
    },
    {
      "cell_type": "code",
      "metadata": {
        "id": "A12oLz84ML0c",
        "colab_type": "code",
        "colab": {}
      },
      "source": [
        "import numpy as np\n",
        "import matplotlib.pyplot as plt\n",
        "import os"
      ],
      "execution_count": 0,
      "outputs": []
    },
    {
      "cell_type": "code",
      "metadata": {
        "id": "U-ASvRG3NQWM",
        "colab_type": "code",
        "colab": {}
      },
      "source": [
        "from tensorflow.keras.layers import Dense, Input\n",
        "from tensorflow.keras.layers import Conv2D, Flatten\n",
        "from tensorflow.keras.layers import Reshape, Conv2DTranspose\n",
        "from tensorflow.keras.models import Model\n",
        "from tensorflow.keras.callbacks import ReduceLROnPlateau\n",
        "from tensorflow.keras.callbacks import ModelCheckpoint\n",
        "from tensorflow.keras.datasets import cifar10\n",
        "from tensorflow.keras.utils import plot_model\n",
        "from tensorflow.keras import backend as K"
      ],
      "execution_count": 0,
      "outputs": []
    },
    {
      "cell_type": "markdown",
      "metadata": {
        "id": "crvcEJdtNg4W",
        "colab_type": "text"
      },
      "source": [
        "    **Convert** from color image (RGB) to grayscale.\n",
        "       Source: opencv.org\n",
        "       grayscale = 0.299*red + 0.587*green + 0.114*blue\n",
        "    Argument:\n",
        "        rgb (tensor): rgb image\n",
        "    Return:\n",
        "        (tensor): grayscale image"
      ]
    },
    {
      "cell_type": "code",
      "metadata": {
        "id": "qmyvmAwxNUhg",
        "colab_type": "code",
        "colab": {}
      },
      "source": [
        "def rgb2gray(rgb):\n",
        "  return np.dot(rgb[...,:3], [0.299, 0.587, 0.114])"
      ],
      "execution_count": 0,
      "outputs": []
    },
    {
      "cell_type": "code",
      "metadata": {
        "id": "OvRHwiIgNqiR",
        "colab_type": "code",
        "colab": {}
      },
      "source": [
        "# load the CIFAR10 data\n",
        "(x_train, _), (x_test, _) = cifar10.load_data()"
      ],
      "execution_count": 0,
      "outputs": []
    },
    {
      "cell_type": "code",
      "metadata": {
        "id": "XROVJKArNyOV",
        "colab_type": "code",
        "colab": {}
      },
      "source": [
        "# input image dimensions\n",
        "# we assume data format \"channels_last\"\n",
        "img_rows = x_train.shape[1]\n",
        "img_cols = x_train.shape[2]\n",
        "channels = x_train.shape[3]"
      ],
      "execution_count": 0,
      "outputs": []
    },
    {
      "cell_type": "code",
      "metadata": {
        "id": "aWyzmiT_N9Hh",
        "colab_type": "code",
        "colab": {
          "base_uri": "https://localhost:8080/",
          "height": 34
        },
        "outputId": "dc592e76-beb2-4731-fd58-4240311e2fe4"
      },
      "source": [
        "img_rows , img_cols, channels"
      ],
      "execution_count": 40,
      "outputs": [
        {
          "output_type": "execute_result",
          "data": {
            "text/plain": [
              "(32, 32, 3)"
            ]
          },
          "metadata": {
            "tags": []
          },
          "execution_count": 40
        }
      ]
    },
    {
      "cell_type": "code",
      "metadata": {
        "id": "e2kDpLA1N_vC",
        "colab_type": "code",
        "colab": {}
      },
      "source": [
        "# create saved_images folder\n",
        "imgs_dir = 'saved_images'\n",
        "save_dir = os.path.join(os.getcwd(), imgs_dir)\n",
        "if not os.path.isdir(save_dir):\n",
        "        os.makedirs(save_dir)"
      ],
      "execution_count": 0,
      "outputs": []
    },
    {
      "cell_type": "code",
      "metadata": {
        "id": "AcijQORuOZNn",
        "colab_type": "code",
        "colab": {
          "base_uri": "https://localhost:8080/",
          "height": 264
        },
        "outputId": "2bd16c19-2553-464c-b2d3-174d9f04420f"
      },
      "source": [
        "# display the 1st 100 input images (color and gray)\n",
        "imgs = x_test[:9]\n",
        "imgs = imgs.reshape((3, 3, img_rows, img_cols, channels))\n",
        "imgs = np.vstack([np.hstack(i) for i in imgs])\n",
        "plt.figure()\n",
        "plt.axis('off')\n",
        "plt.title('Test color images (Ground  Truth)')\n",
        "plt.imshow(imgs, interpolation='none')\n",
        "plt.savefig('%s/test_color.png' % imgs_dir)\n",
        "plt.show()"
      ],
      "execution_count": 42,
      "outputs": [
        {
          "output_type": "display_data",
          "data": {
            "image/png": "[encoded data removed]",
            "text/plain": [
              "<Figure size 432x288 with 1 Axes>"
            ]
          },
          "metadata": {
            "tags": []
          }
        }
      ]
    },
    {
      "cell_type": "code",
      "metadata": {
        "id": "bRaeeaXxOnHD",
        "colab_type": "code",
        "colab": {}
      },
      "source": [
        "# convert color train and test images to gray\n",
        "x_train_gray = rgb2gray(x_train)\n",
        "x_test_gray = rgb2gray(x_test)"
      ],
      "execution_count": 0,
      "outputs": []
    },
    {
      "cell_type": "code",
      "metadata": {
        "id": "9MwGu7VfO0QA",
        "colab_type": "code",
        "colab": {
          "base_uri": "https://localhost:8080/",
          "height": 264
        },
        "outputId": "9fd03d85-6fcf-40b6-feb1-a04add9df23b"
      },
      "source": [
        "# display grayscale version of test images\n",
        "imgs = x_test_gray[:9]\n",
        "imgs = imgs.reshape((3, 3, img_rows, img_cols))\n",
        "imgs = np.vstack([np.hstack(i) for i in imgs])\n",
        "plt.figure()\n",
        "plt.axis('off')\n",
        "plt.title('Test gray images (Input)')\n",
        "plt.imshow(imgs, interpolation='none', cmap='gray')\n",
        "plt.savefig('%s/test_gray.png' % imgs_dir)\n",
        "plt.show()"
      ],
      "execution_count": 44,
      "outputs": [
        {
          "output_type": "display_data",
          "data": {
            "image/png": "[encoded data removed]",
            "text/plain": [
              "<Figure size 432x288 with 1 Axes>"
            ]
          },
          "metadata": {
            "tags": []
          }
        }
      ]
    },
    {
      "cell_type": "code",
      "metadata": {
        "id": "ooCk9Fl9PDjz",
        "colab_type": "code",
        "colab": {}
      },
      "source": [
        "# normalize output train and test color images\n",
        "x_train = x_train.astype('float32') / 255\n",
        "x_test = x_test.astype('float32') / 255"
      ],
      "execution_count": 0,
      "outputs": []
    },
    {
      "cell_type": "code",
      "metadata": {
        "id": "SxGMjypCPUeK",
        "colab_type": "code",
        "colab": {}
      },
      "source": [
        "# normalize input train and test grayscale images\n",
        "x_train_gray = x_train_gray.astype('float32') / 255\n",
        "x_test_gray = x_test_gray.astype('float32') / 255"
      ],
      "execution_count": 0,
      "outputs": []
    },
    {
      "cell_type": "code",
      "metadata": {
        "id": "76RBb5EDPcJM",
        "colab_type": "code",
        "colab": {}
      },
      "source": [
        "# reshape images to row x col x channel for CNN output/validation\n",
        "x_train = x_train.reshape(x_train.shape[0], img_rows, img_cols, channels)\n",
        "x_test = x_test.reshape(x_test.shape[0], img_rows, img_cols, channels)"
      ],
      "execution_count": 0,
      "outputs": []
    },
    {
      "cell_type": "code",
      "metadata": {
        "id": "pc-YKtQ2P-eD",
        "colab_type": "code",
        "colab": {}
      },
      "source": [
        "# reshape images to row x col x channel for CNN input\n",
        "x_train_gray = x_train_gray.reshape(x_train_gray.shape[0], img_rows, img_cols, 1)\n",
        "x_test_gray = x_test_gray.reshape(x_test_gray.shape[0], img_rows, img_cols, 1)"
      ],
      "execution_count": 0,
      "outputs": []
    },
    {
      "cell_type": "code",
      "metadata": {
        "id": "_6WdVRb4QIZV",
        "colab_type": "code",
        "colab": {}
      },
      "source": [
        "# network parameters\n",
        "input_shape = (img_rows, img_cols, 1)\n",
        "batch_size = 32\n",
        "kernel_size = 3\n",
        "latent_dim = 256\n",
        "# encoder/decoder number of CNN layers and filters per layer\n",
        "layer_filters = [64, 128, 256]"
      ],
      "execution_count": 0,
      "outputs": []
    },
    {
      "cell_type": "code",
      "metadata": {
        "id": "RYimt069T_LC",
        "colab_type": "code",
        "colab": {}
      },
      "source": [
        "# build the autoencoder model\n",
        "# first build the encoder model\n",
        "inputs = Input(shape=input_shape, name='encoder_input')\n",
        "x = inputs\n",
        "# stack of Conv2D(64)-Conv2D(128)-Conv2D(256)\n",
        "for filters in layer_filters:\n",
        "    x = Conv2D(filters=filters,\n",
        "               kernel_size=kernel_size,\n",
        "               strides=2,\n",
        "               activation='relu',\n",
        "               padding='same')(x)"
      ],
      "execution_count": 0,
      "outputs": []
    },
    {
      "cell_type": "code",
      "metadata": {
        "id": "hk75V1-DUJeB",
        "colab_type": "code",
        "colab": {}
      },
      "source": [
        "# shape info needed to build decoder model so we don't do hand computation\n",
        "# the input to the decoder's first Conv2DTranspose will have this shape\n",
        "# shape is (4, 4, 256) which is processed by the decoder back to (32, 32, 3)\n",
        "shape = K.int_shape(x)"
      ],
      "execution_count": 0,
      "outputs": []
    },
    {
      "cell_type": "code",
      "metadata": {
        "id": "Qjco_ok4VRLW",
        "colab_type": "code",
        "colab": {
          "base_uri": "https://localhost:8080/",
          "height": 34
        },
        "outputId": "d3bf9c21-42da-49e7-e5cd-dba4cf632037"
      },
      "source": [
        "shape"
      ],
      "execution_count": 52,
      "outputs": [
        {
          "output_type": "execute_result",
          "data": {
            "text/plain": [
              "(None, 4, 4, 256)"
            ]
          },
          "metadata": {
            "tags": []
          },
          "execution_count": 52
        }
      ]
    },
    {
      "cell_type": "code",
      "metadata": {
        "id": "s25lH5rWVHmf",
        "colab_type": "code",
        "colab": {}
      },
      "source": [
        "# generate a latent vector\n",
        "x = Flatten()(x)\n",
        "latent = Dense(latent_dim, name='latent_vector')(x)"
      ],
      "execution_count": 0,
      "outputs": []
    },
    {
      "cell_type": "code",
      "metadata": {
        "id": "9BcDnbF_UpmK",
        "colab_type": "code",
        "colab": {
          "base_uri": "https://localhost:8080/",
          "height": 353
        },
        "outputId": "1e4d4f8c-fce8-444a-8e44-b804e0b58210"
      },
      "source": [
        "# instantiate encoder model\n",
        "encoder = Model(inputs, latent, name='encoder')\n",
        "encoder.summary()"
      ],
      "execution_count": 54,
      "outputs": [
        {
          "output_type": "stream",
          "text": [
            "Model: \"encoder\"\n",
            "_________________________________________________________________\n",
            "Layer (type)                 Output Shape              Param #   \n",
            "=================================================================\n",
            "encoder_input (InputLayer)   [(None, 32, 32, 1)]       0         \n",
            "_________________________________________________________________\n",
            "conv2d_3 (Conv2D)            (None, 16, 16, 64)        640       \n",
            "_________________________________________________________________\n",
            "conv2d_4 (Conv2D)            (None, 8, 8, 128)         73856     \n",
            "_________________________________________________________________\n",
            "conv2d_5 (Conv2D)            (None, 4, 4, 256)         295168    \n",
            "_________________________________________________________________\n",
            "flatten_1 (Flatten)          (None, 4096)              0         \n",
            "_________________________________________________________________\n",
            "latent_vector (Dense)        (None, 256)               1048832   \n",
            "=================================================================\n",
            "Total params: 1,418,496\n",
            "Trainable params: 1,418,496\n",
            "Non-trainable params: 0\n",
            "_________________________________________________________________\n"
          ],
          "name": "stdout"
        }
      ]
    },
    {
      "cell_type": "code",
      "metadata": {
        "id": "GKT1FS11VBoj",
        "colab_type": "code",
        "colab": {}
      },
      "source": [
        "# build the decoder model\n",
        "latent_inputs = Input(shape=(latent_dim,), name='decoder_input')\n",
        "x = Dense(shape[1]*shape[2]*shape[3])(latent_inputs)\n",
        "x = Reshape((shape[1], shape[2], shape[3]))(x)"
      ],
      "execution_count": 0,
      "outputs": []
    },
    {
      "cell_type": "code",
      "metadata": {
        "id": "dgFNT5dPVuEK",
        "colab_type": "code",
        "colab": {}
      },
      "source": [
        "# stack of Conv2DTranspose(256)-Conv2DTranspose(128)-Conv2DTranspose(64)\n",
        "for filters in layer_filters[::-1]:\n",
        "    x = Conv2DTranspose(filters=filters,\n",
        "                        kernel_size=kernel_size,\n",
        "                        strides=2,\n",
        "                        activation='relu',\n",
        "                        padding='same')(x)"
      ],
      "execution_count": 0,
      "outputs": []
    },
    {
      "cell_type": "code",
      "metadata": {
        "id": "Hwve_9PVV9qX",
        "colab_type": "code",
        "colab": {}
      },
      "source": [
        "outputs = Conv2DTranspose(filters=channels,\n",
        "                          kernel_size=kernel_size,\n",
        "                          activation='sigmoid',\n",
        "                          padding='same',\n",
        "                          name='decoder_output')(x)"
      ],
      "execution_count": 0,
      "outputs": []
    },
    {
      "cell_type": "code",
      "metadata": {
        "id": "pgpz5txqWGvh",
        "colab_type": "code",
        "colab": {
          "base_uri": "https://localhost:8080/",
          "height": 386
        },
        "outputId": "c7ef5737-00cc-4ccf-f344-60ba2f940a7a"
      },
      "source": [
        "# instantiate decoder model\n",
        "decoder = Model(latent_inputs, outputs, name='decoder')\n",
        "decoder.summary()"
      ],
      "execution_count": 58,
      "outputs": [
        {
          "output_type": "stream",
          "text": [
            "Model: \"decoder\"\n",
            "_________________________________________________________________\n",
            "Layer (type)                 Output Shape              Param #   \n",
            "=================================================================\n",
            "decoder_input (InputLayer)   [(None, 256)]             0         \n",
            "_________________________________________________________________\n",
            "dense_1 (Dense)              (None, 4096)              1052672   \n",
            "_________________________________________________________________\n",
            "reshape_1 (Reshape)          (None, 4, 4, 256)         0         \n",
            "_________________________________________________________________\n",
            "conv2d_transpose_3 (Conv2DTr (None, 8, 8, 256)         590080    \n",
            "_________________________________________________________________\n",
            "conv2d_transpose_4 (Conv2DTr (None, 16, 16, 128)       295040    \n",
            "_________________________________________________________________\n",
            "conv2d_transpose_5 (Conv2DTr (None, 32, 32, 64)        73792     \n",
            "_________________________________________________________________\n",
            "decoder_output (Conv2DTransp (None, 32, 32, 3)         1731      \n",
            "=================================================================\n",
            "Total params: 2,013,315\n",
            "Trainable params: 2,013,315\n",
            "Non-trainable params: 0\n",
            "_________________________________________________________________\n"
          ],
          "name": "stdout"
        }
      ]
    },
    {
      "cell_type": "code",
      "metadata": {
        "id": "aqEMArqeWP_l",
        "colab_type": "code",
        "colab": {
          "base_uri": "https://localhost:8080/",
          "height": 252
        },
        "outputId": "36f1191d-870d-4836-d368-acf803ead5e0"
      },
      "source": [
        "# autoencoder = encoder + decoder\n",
        "# instantiate autoencoder model\n",
        "autoencoder = Model(inputs, decoder(encoder(inputs)), name='autoencoder')\n",
        "autoencoder.summary()"
      ],
      "execution_count": 59,
      "outputs": [
        {
          "output_type": "stream",
          "text": [
            "Model: \"autoencoder\"\n",
            "_________________________________________________________________\n",
            "Layer (type)                 Output Shape              Param #   \n",
            "=================================================================\n",
            "encoder_input (InputLayer)   [(None, 32, 32, 1)]       0         \n",
            "_________________________________________________________________\n",
            "encoder (Model)              (None, 256)               1418496   \n",
            "_________________________________________________________________\n",
            "decoder (Model)              (None, 32, 32, 3)         2013315   \n",
            "=================================================================\n",
            "Total params: 3,431,811\n",
            "Trainable params: 3,431,811\n",
            "Non-trainable params: 0\n",
            "_________________________________________________________________\n"
          ],
          "name": "stdout"
        }
      ]
    },
    {
      "cell_type": "code",
      "metadata": {
        "id": "qK-0XpGyW0YL",
        "colab_type": "code",
        "colab": {}
      },
      "source": [
        "# prepare model saving directory.\n",
        "save_dir = os.path.join(os.getcwd(), 'saved_models')\n",
        "model_name = 'colorized_ae_model.{epoch:03d}.h5'\n",
        "if not os.path.isdir(save_dir):\n",
        "        os.makedirs(save_dir)\n",
        "filepath = os.path.join(save_dir, model_name)"
      ],
      "execution_count": 0,
      "outputs": []
    },
    {
      "cell_type": "code",
      "metadata": {
        "id": "H3JRLnnTdJop",
        "colab_type": "code",
        "colab": {}
      },
      "source": [
        "# reduce learning rate by sqrt(0.1) if the loss does not improve in 5 epochs\n",
        "lr_reducer = ReduceLROnPlateau(factor=np.sqrt(0.1),\n",
        "                               cooldown=0,\n",
        "                               patience=5,\n",
        "                               verbose=1,\n",
        "                               min_lr=0.5e-6)\n",
        "# save weights for future use (e.g. reload parameters w/o training)\n",
        "checkpoint = ModelCheckpoint(filepath=filepath,\n",
        "                             monitor='val_loss',\n",
        "                             verbose=1,\n",
        "                             save_best_only=True)\n"
      ],
      "execution_count": 0,
      "outputs": []
    },
    {
      "cell_type": "code",
      "metadata": {
        "id": "DLcWELfJXV9G",
        "colab_type": "code",
        "colab": {}
      },
      "source": [
        "# Mean Square Error (MSE) loss function, Adam optimizer\n",
        "autoencoder.compile(loss='mse', optimizer='adam', metrics=['accuracy'])"
      ],
      "execution_count": 0,
      "outputs": []
    },
    {
      "cell_type": "code",
      "metadata": {
        "id": "pGkC-6n8dP1e",
        "colab_type": "code",
        "colab": {}
      },
      "source": [
        "# called every epoch\n",
        "callbacks = [lr_reducer, checkpoint]"
      ],
      "execution_count": 0,
      "outputs": []
    },
    {
      "cell_type": "code",
      "metadata": {
        "id": "nt72tfoSXdqC",
        "colab_type": "code",
        "colab": {
          "base_uri": "https://localhost:8080/",
          "height": 1000
        },
        "outputId": "02edc4a4-5d44-4d23-f799-edef65282f1b"
      },
      "source": [
        "# train the autoencoder\n",
        "autoencoder.fit(x_train_gray,\n",
        "                x_train,\n",
        "                validation_data=(x_test_gray, x_test),\n",
        "                epochs=30,\n",
        "                batch_size= batch_size,callbacks=callbacks)\n",
        "# predict the autoencoder output from test data\n",
        "x_decoded = autoencoder.predict(x_test_gray)"
      ],
      "execution_count": 64,
      "outputs": [
        {
          "output_type": "stream",
          "text": [
            "49984/50000 [============================>.] - ETA: 0s - loss: 0.0092 - accuracy: 0.5079\n",
            "Epoch 00003: val_loss improved from 0.00953 to 0.00933, saving model to /content/saved_models/colorized_ae_model.003.h5\n",
            "50000/50000 [==============================] - 524s 10ms/sample - loss: 0.0092 - accuracy: 0.5079 - val_loss: 0.0093 - val_accuracy: 0.4934\n",
            "\n",
            "Epoch 00003: val_loss improved from 0.00953 to 0.00933, saving model to /content/saved_models/colorized_ae_model.003.h5\n",
            "50000/50000 [==============================] - 524s 10ms/sample - loss: 0.0092 - accuracy: 0.5079 - val_loss: 0.0093 - val_accuracy: 0.4934\n",
            "Epoch 4/30\n",
            "Epoch 4/30\n",
            "49984/50000 [============================>.] - ETA: 0s - loss: 0.0086 - accuracy: 0.5142\n",
            "Epoch 00004: val_loss improved from 0.00933 to 0.00844, saving model to /content/saved_models/colorized_ae_model.004.h5\n",
            "50000/50000 [==============================] - 520s 10ms/sample - loss: 0.0086 - accuracy: 0.5142 - val_loss: 0.0084 - val_accuracy: 0.5271\n",
            "\n",
            "Epoch 00004: val_loss improved from 0.00933 to 0.00844, saving model to /content/saved_models/colorized_ae_model.004.h5\n",
            "50000/50000 [==============================] - 520s 10ms/sample - loss: 0.0086 - accuracy: 0.5142 - val_loss: 0.0084 - val_accuracy: 0.5271\n",
            "Epoch 5/30\n",
            "Epoch 5/30\n",
            "49984/50000 [============================>.] - ETA: 0s - loss: 0.0082 - accuracy: 0.5198\n",
            "Epoch 00005: val_loss improved from 0.00844 to 0.00837, saving model to /content/saved_models/colorized_ae_model.005.h5\n",
            "50000/50000 [==============================] - 520s 10ms/sample - loss: 0.0082 - accuracy: 0.5198 - val_loss: 0.0084 - val_accuracy: 0.5150\n",
            "\n",
            "Epoch 00005: val_loss improved from 0.00844 to 0.00837, saving model to /content/saved_models/colorized_ae_model.005.h5\n",
            "50000/50000 [==============================] - 520s 10ms/sample - loss: 0.0082 - accuracy: 0.5198 - val_loss: 0.0084 - val_accuracy: 0.5150\n",
            "Epoch 6/30\n",
            "Epoch 6/30\n",
            "49984/50000 [============================>.] - ETA: 0s - loss: 0.0079 - accuracy: 0.5264\n",
            "Epoch 00006: val_loss improved from 0.00837 to 0.00811, saving model to /content/saved_models/colorized_ae_model.006.h5\n",
            "50000/50000 [==============================] - 509s 10ms/sample - loss: 0.0079 - accuracy: 0.5263 - val_loss: 0.0081 - val_accuracy: 0.5234\n",
            "\n",
            "Epoch 00006: val_loss improved from 0.00837 to 0.00811, saving model to /content/saved_models/colorized_ae_model.006.h5\n",
            "50000/50000 [==============================] - 509s 10ms/sample - loss: 0.0079 - accuracy: 0.5263 - val_loss: 0.0081 - val_accuracy: 0.5234\n",
            "Epoch 7/30\n",
            "Epoch 7/30\n",
            "49984/50000 [============================>.] - ETA: 0s - loss: 0.0077 - accuracy: 0.5307\n",
            "Epoch 00007: val_loss improved from 0.00811 to 0.00786, saving model to /content/saved_models/colorized_ae_model.007.h5\n",
            "50000/50000 [==============================] - 508s 10ms/sample - loss: 0.0077 - accuracy: 0.5306 - val_loss: 0.0079 - val_accuracy: 0.5219\n",
            "\n",
            "Epoch 00007: val_loss improved from 0.00811 to 0.00786, saving model to /content/saved_models/colorized_ae_model.007.h5\n",
            "50000/50000 [==============================] - 508s 10ms/sample - loss: 0.0077 - accuracy: 0.5306 - val_loss: 0.0079 - val_accuracy: 0.5219\n",
            "Epoch 8/30\n",
            "Epoch 8/30\n",
            "49984/50000 [============================>.] - ETA: 0s - loss: 0.0074 - accuracy: 0.5365\n",
            "Epoch 00008: val_loss improved from 0.00786 to 0.00778, saving model to /content/saved_models/colorized_ae_model.008.h5\n",
            "50000/50000 [==============================] - 515s 10ms/sample - loss: 0.0074 - accuracy: 0.5365 - val_loss: 0.0078 - val_accuracy: 0.5022\n",
            "\n",
            "Epoch 00008: val_loss improved from 0.00786 to 0.00778, saving model to /content/saved_models/colorized_ae_model.008.h5\n",
            "50000/50000 [==============================] - 515s 10ms/sample - loss: 0.0074 - accuracy: 0.5365 - val_loss: 0.0078 - val_accuracy: 0.5022\n",
            "Epoch 9/30\n",
            "Epoch 9/30\n",
            "49984/50000 [============================>.] - ETA: 0s - loss: 0.0072 - accuracy: 0.5409\n",
            "Epoch 00009: val_loss did not improve from 0.00778\n",
            "50000/50000 [==============================] - 507s 10ms/sample - loss: 0.0072 - accuracy: 0.5409 - val_loss: 0.0079 - val_accuracy: 0.5386\n",
            "\n",
            "Epoch 00009: val_loss did not improve from 0.00778\n",
            "50000/50000 [==============================] - 507s 10ms/sample - loss: 0.0072 - accuracy: 0.5409 - val_loss: 0.0079 - val_accuracy: 0.5386\n",
            "Epoch 10/30\n",
            "Epoch 10/30\n",
            "49984/50000 [============================>.] - ETA: 0s - loss: 0.0069 - accuracy: 0.5472\n",
            "Epoch 00010: val_loss improved from 0.00778 to 0.00764, saving model to /content/saved_models/colorized_ae_model.010.h5\n",
            "50000/50000 [==============================] - 509s 10ms/sample - loss: 0.0069 - accuracy: 0.5472 - val_loss: 0.0076 - val_accuracy: 0.5337\n",
            "\n",
            "Epoch 00010: val_loss improved from 0.00778 to 0.00764, saving model to /content/saved_models/colorized_ae_model.010.h5\n",
            "50000/50000 [==============================] - 509s 10ms/sample - loss: 0.0069 - accuracy: 0.5472 - val_loss: 0.0076 - val_accuracy: 0.5337\n",
            "Epoch 11/30\n",
            "Epoch 11/30\n",
            "49984/50000 [============================>.] - ETA: 0s - loss: 0.0067 - accuracy: 0.5519\n",
            "Epoch 00011: val_loss did not improve from 0.00764\n",
            "50000/50000 [==============================] - 510s 10ms/sample - loss: 0.0067 - accuracy: 0.5519 - val_loss: 0.0081 - val_accuracy: 0.4728\n",
            "\n",
            "Epoch 00011: val_loss did not improve from 0.00764\n",
            "50000/50000 [==============================] - 510s 10ms/sample - loss: 0.0067 - accuracy: 0.5519 - val_loss: 0.0081 - val_accuracy: 0.4728\n",
            "Epoch 12/30\n",
            "Epoch 12/30\n",
            "49984/50000 [============================>.] - ETA: 0s - loss: 0.0065 - accuracy: 0.5568\n",
            "Epoch 00012: val_loss did not improve from 0.00764\n",
            "50000/50000 [==============================] - 513s 10ms/sample - loss: 0.0065 - accuracy: 0.5568 - val_loss: 0.0077 - val_accuracy: 0.5320\n",
            "\n",
            "Epoch 00012: val_loss did not improve from 0.00764\n",
            "50000/50000 [==============================] - 513s 10ms/sample - loss: 0.0065 - accuracy: 0.5568 - val_loss: 0.0077 - val_accuracy: 0.5320\n",
            "Epoch 13/30\n",
            "Epoch 13/30\n",
            "49984/50000 [============================>.] - ETA: 0s - loss: 0.0062 - accuracy: 0.5622\n",
            "Epoch 00013: val_loss did not improve from 0.00764\n",
            "50000/50000 [==============================] - 512s 10ms/sample - loss: 0.0062 - accuracy: 0.5621 - val_loss: 0.0078 - val_accuracy: 0.4529\n",
            "\n",
            "Epoch 00013: val_loss did not improve from 0.00764\n",
            "50000/50000 [==============================] - 512s 10ms/sample - loss: 0.0062 - accuracy: 0.5621 - val_loss: 0.0078 - val_accuracy: 0.4529\n",
            "Epoch 14/30\n",
            "Epoch 14/30\n",
            "49984/50000 [============================>.] - ETA: 0s - loss: 0.0060 - accuracy: 0.5661\n",
            "Epoch 00014: val_loss did not improve from 0.00764\n",
            "50000/50000 [==============================] - 505s 10ms/sample - loss: 0.0060 - accuracy: 0.5661 - val_loss: 0.0078 - val_accuracy: 0.5155\n",
            "\n",
            "Epoch 00014: val_loss did not improve from 0.00764\n",
            "50000/50000 [==============================] - 505s 10ms/sample - loss: 0.0060 - accuracy: 0.5661 - val_loss: 0.0078 - val_accuracy: 0.5155\n",
            "Epoch 15/30\n",
            "Epoch 15/30\n",
            "49984/50000 [============================>.] - ETA: 0s - loss: 0.0058 - accuracy: 0.5718\n",
            "Epoch 00015: ReduceLROnPlateau reducing learning rate to 0.00031622778103685084.\n",
            "\n",
            "Epoch 00015: val_loss did not improve from 0.00764\n",
            "50000/50000 [==============================] - 503s 10ms/sample - loss: 0.0058 - accuracy: 0.5718 - val_loss: 0.0077 - val_accuracy: 0.5008\n",
            "\n",
            "Epoch 00015: ReduceLROnPlateau reducing learning rate to 0.00031622778103685084.\n",
            "\n",
            "Epoch 00015: val_loss did not improve from 0.00764\n",
            "50000/50000 [==============================] - 503s 10ms/sample - loss: 0.0058 - accuracy: 0.5718 - val_loss: 0.0077 - val_accuracy: 0.5008\n",
            "Epoch 16/30\n",
            "Epoch 16/30\n",
            "49984/50000 [============================>.] - ETA: 0s - loss: 0.0050 - accuracy: 0.5912\n",
            "Epoch 00016: val_loss improved from 0.00764 to 0.00752, saving model to /content/saved_models/colorized_ae_model.016.h5\n",
            "50000/50000 [==============================] - 500s 10ms/sample - loss: 0.0050 - accuracy: 0.5912 - val_loss: 0.0075 - val_accuracy: 0.5037\n",
            "\n",
            "Epoch 00016: val_loss improved from 0.00764 to 0.00752, saving model to /content/saved_models/colorized_ae_model.016.h5\n",
            "50000/50000 [==============================] - 500s 10ms/sample - loss: 0.0050 - accuracy: 0.5912 - val_loss: 0.0075 - val_accuracy: 0.5037\n",
            "Epoch 17/30\n",
            "Epoch 17/30\n",
            "49984/50000 [============================>.] - ETA: 0s - loss: 0.0047 - accuracy: 0.5979\n",
            "Epoch 00017: val_loss did not improve from 0.00752\n",
            "50000/50000 [==============================] - 499s 10ms/sample - loss: 0.0047 - accuracy: 0.5979 - val_loss: 0.0076 - val_accuracy: 0.5377\n",
            "\n",
            "Epoch 00017: val_loss did not improve from 0.00752\n",
            "50000/50000 [==============================] - 499s 10ms/sample - loss: 0.0047 - accuracy: 0.5979 - val_loss: 0.0076 - val_accuracy: 0.5377\n",
            "Epoch 18/30\n",
            "Epoch 18/30\n",
            "49984/50000 [============================>.] - ETA: 0s - loss: 0.0046 - accuracy: 0.6025\n",
            "Epoch 00018: val_loss did not improve from 0.00752\n",
            "50000/50000 [==============================] - 497s 10ms/sample - loss: 0.0046 - accuracy: 0.6025 - val_loss: 0.0076 - val_accuracy: 0.5220\n",
            "\n",
            "Epoch 00018: val_loss did not improve from 0.00752\n",
            "50000/50000 [==============================] - 497s 10ms/sample - loss: 0.0046 - accuracy: 0.6025 - val_loss: 0.0076 - val_accuracy: 0.5220\n",
            "Epoch 19/30\n",
            "Epoch 19/30\n",
            "49984/50000 [============================>.] - ETA: 0s - loss: 0.0045 - accuracy: 0.6069\n",
            "Epoch 00019: val_loss did not improve from 0.00752\n",
            "50000/50000 [==============================] - 496s 10ms/sample - loss: 0.0045 - accuracy: 0.6069 - val_loss: 0.0075 - val_accuracy: 0.5226\n",
            "\n",
            "Epoch 00019: val_loss did not improve from 0.00752\n",
            "50000/50000 [==============================] - 496s 10ms/sample - loss: 0.0045 - accuracy: 0.6069 - val_loss: 0.0075 - val_accuracy: 0.5226\n",
            "Epoch 20/30\n",
            "Epoch 20/30\n",
            "49984/50000 [============================>.] - ETA: 0s - loss: 0.0043 - accuracy: 0.6110\n",
            "Epoch 00020: val_loss did not improve from 0.00752\n",
            "50000/50000 [==============================] - 496s 10ms/sample - loss: 0.0043 - accuracy: 0.6110 - val_loss: 0.0077 - val_accuracy: 0.5304\n",
            "\n",
            "Epoch 00020: val_loss did not improve from 0.00752\n",
            "50000/50000 [==============================] - 496s 10ms/sample - loss: 0.0043 - accuracy: 0.6110 - val_loss: 0.0077 - val_accuracy: 0.5304\n",
            "Epoch 21/30\n",
            "Epoch 21/30\n",
            "49984/50000 [============================>.] - ETA: 0s - loss: 0.0042 - accuracy: 0.6145\n",
            "Epoch 00021: ReduceLROnPlateau reducing learning rate to 0.00010000000639606199.\n",
            "\n",
            "Epoch 00021: val_loss did not improve from 0.00752\n",
            "50000/50000 [==============================] - 495s 10ms/sample - loss: 0.0042 - accuracy: 0.6145 - val_loss: 0.0078 - val_accuracy: 0.5082\n",
            "\n",
            "Epoch 00021: ReduceLROnPlateau reducing learning rate to 0.00010000000639606199.\n",
            "\n",
            "Epoch 00021: val_loss did not improve from 0.00752\n",
            "50000/50000 [==============================] - 495s 10ms/sample - loss: 0.0042 - accuracy: 0.6145 - val_loss: 0.0078 - val_accuracy: 0.5082\n",
            "Epoch 22/30\n",
            "Epoch 22/30\n",
            "49984/50000 [============================>.] - ETA: 0s - loss: 0.0040 - accuracy: 0.6250\n",
            "Epoch 00022: val_loss did not improve from 0.00752\n",
            "50000/50000 [==============================] - 493s 10ms/sample - loss: 0.0040 - accuracy: 0.6250 - val_loss: 0.0076 - val_accuracy: 0.5063\n",
            "\n",
            "Epoch 00022: val_loss did not improve from 0.00752\n",
            "50000/50000 [==============================] - 493s 10ms/sample - loss: 0.0040 - accuracy: 0.6250 - val_loss: 0.0076 - val_accuracy: 0.5063\n",
            "Epoch 23/30\n",
            "Epoch 23/30\n",
            "49984/50000 [============================>.] - ETA: 0s - loss: 0.0039 - accuracy: 0.6272\n",
            "Epoch 00023: val_loss did not improve from 0.00752\n",
            "50000/50000 [==============================] - 496s 10ms/sample - loss: 0.0039 - accuracy: 0.6272 - val_loss: 0.0077 - val_accuracy: 0.5220\n",
            "\n",
            "Epoch 00023: val_loss did not improve from 0.00752\n",
            "50000/50000 [==============================] - 496s 10ms/sample - loss: 0.0039 - accuracy: 0.6272 - val_loss: 0.0077 - val_accuracy: 0.5220\n",
            "Epoch 24/30\n",
            "Epoch 24/30\n",
            "49984/50000 [============================>.] - ETA: 0s - loss: 0.0039 - accuracy: 0.6298\n",
            "Epoch 00024: val_loss did not improve from 0.00752\n",
            "50000/50000 [==============================] - 503s 10ms/sample - loss: 0.0039 - accuracy: 0.6298 - val_loss: 0.0076 - val_accuracy: 0.5227\n",
            "\n",
            "Epoch 00024: val_loss did not improve from 0.00752\n",
            "50000/50000 [==============================] - 503s 10ms/sample - loss: 0.0039 - accuracy: 0.6298 - val_loss: 0.0076 - val_accuracy: 0.5227\n",
            "Epoch 25/30\n",
            "Epoch 25/30\n",
            "49984/50000 [============================>.] - ETA: 0s - loss: 0.0038 - accuracy: 0.6316\n",
            "Epoch 00025: val_loss did not improve from 0.00752\n",
            "50000/50000 [==============================] - 507s 10ms/sample - loss: 0.0038 - accuracy: 0.6316 - val_loss: 0.0077 - val_accuracy: 0.5073\n",
            "\n",
            "Epoch 00025: val_loss did not improve from 0.00752\n",
            "50000/50000 [==============================] - 507s 10ms/sample - loss: 0.0038 - accuracy: 0.6316 - val_loss: 0.0077 - val_accuracy: 0.5073\n",
            "Epoch 26/30\n",
            "Epoch 26/30\n",
            "49984/50000 [============================>.] - ETA: 0s - loss: 0.0038 - accuracy: 0.6329\n",
            "Epoch 00026: ReduceLROnPlateau reducing learning rate to 3.1622778103685084e-05.\n",
            "\n",
            "Epoch 00026: val_loss did not improve from 0.00752\n",
            "50000/50000 [==============================] - 513s 10ms/sample - loss: 0.0038 - accuracy: 0.6329 - val_loss: 0.0077 - val_accuracy: 0.5151\n",
            "\n",
            "Epoch 00026: ReduceLROnPlateau reducing learning rate to 3.1622778103685084e-05.\n",
            "\n",
            "Epoch 00026: val_loss did not improve from 0.00752\n",
            "50000/50000 [==============================] - 513s 10ms/sample - loss: 0.0038 - accuracy: 0.6329 - val_loss: 0.0077 - val_accuracy: 0.5151\n",
            "Epoch 27/30\n",
            "Epoch 27/30\n",
            "49984/50000 [============================>.] - ETA: 0s - loss: 0.0037 - accuracy: 0.6370\n",
            "Epoch 00027: val_loss did not improve from 0.00752\n",
            "50000/50000 [==============================] - 515s 10ms/sample - loss: 0.0037 - accuracy: 0.6370 - val_loss: 0.0077 - val_accuracy: 0.5110\n",
            "\n",
            "Epoch 00027: val_loss did not improve from 0.00752\n",
            "50000/50000 [==============================] - 515s 10ms/sample - loss: 0.0037 - accuracy: 0.6370 - val_loss: 0.0077 - val_accuracy: 0.5110\n",
            "Epoch 28/30\n",
            "Epoch 28/30\n",
            "49984/50000 [============================>.] - ETA: 0s - loss: 0.0037 - accuracy: 0.6377\n",
            "Epoch 00028: val_loss did not improve from 0.00752\n",
            "50000/50000 [==============================] - 520s 10ms/sample - loss: 0.0037 - accuracy: 0.6377 - val_loss: 0.0078 - val_accuracy: 0.5064\n",
            "\n",
            "Epoch 00028: val_loss did not improve from 0.00752\n",
            "50000/50000 [==============================] - 520s 10ms/sample - loss: 0.0037 - accuracy: 0.6377 - val_loss: 0.0078 - val_accuracy: 0.5064\n",
            "Epoch 29/30\n",
            "Epoch 29/30\n",
            "49984/50000 [============================>.] - ETA: 0s - loss: 0.0037 - accuracy: 0.6384\n",
            "Epoch 00029: val_loss did not improve from 0.00752\n",
            "50000/50000 [==============================] - 519s 10ms/sample - loss: 0.0037 - accuracy: 0.6385 - val_loss: 0.0078 - val_accuracy: 0.5084\n",
            "\n",
            "Epoch 00029: val_loss did not improve from 0.00752\n",
            "50000/50000 [==============================] - 519s 10ms/sample - loss: 0.0037 - accuracy: 0.6385 - val_loss: 0.0078 - val_accuracy: 0.5084\n",
            "Epoch 30/30\n",
            "Epoch 30/30\n",
            "49984/50000 [============================>.] - ETA: 0s - loss: 0.0037 - accuracy: 0.6390\n",
            "Epoch 00030: val_loss did not improve from 0.00752\n",
            "50000/50000 [==============================] - 512s 10ms/sample - loss: 0.0037 - accuracy: 0.6389 - val_loss: 0.0078 - val_accuracy: 0.5100\n",
            "\n",
            "Epoch 00030: val_loss did not improve from 0.00752\n",
            "50000/50000 [==============================] - 512s 10ms/sample - loss: 0.0037 - accuracy: 0.6389 - val_loss: 0.0078 - val_accuracy: 0.5100\n"
          ],
          "name": "stdout"
        }
      ]
    },
    {
      "cell_type": "code",
      "metadata": {
        "id": "9gYB9ikOZnvu",
        "colab_type": "code",
        "colab": {
          "base_uri": "https://localhost:8080/",
          "height": 264
        },
        "outputId": "c1d5cd4e-c6bf-49be-db82-1568052e9133"
      },
      "source": [
        "# display the 1st 100 colorized images\n",
        "imgs = x_decoded[:9]\n",
        "imgs = imgs.reshape((3, 3, img_rows, img_cols, channels))\n",
        "imgs = np.vstack([np.hstack(i) for i in imgs])\n",
        "plt.figure()\n",
        "plt.axis('off')\n",
        "plt.title('Colorized test images (Predicted)')\n",
        "plt.imshow(imgs, interpolation='none')\n",
        "plt.savefig('%s/colorized.png' % imgs_dir)\n",
        "plt.show()\n"
      ],
      "execution_count": 66,
      "outputs": [
        {
          "output_type": "display_data",
          "data": {
            "image/png": "[encoded data removed]",
            "text/plain": [
              "<Figure size 432x288 with 1 Axes>"
            ]
          },
          "metadata": {
            "tags": []
          }
        }
      ]
    },
    {
      "cell_type": "code",
      "metadata": {
        "id": "oE88ee9PhIyU",
        "colab_type": "code",
        "colab": {}
      },
      "source": [
        ""
      ],
      "execution_count": 0,
      "outputs": []
    }
  ]
}